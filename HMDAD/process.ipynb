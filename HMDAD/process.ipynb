{
 "cells": [
  {
   "cell_type": "code",
   "execution_count": 1,
   "metadata": {},
   "outputs": [],
   "source": [
    "import numpy as np\n",
    "import pandas as pd"
   ]
  },
  {
   "cell_type": "code",
   "execution_count": 26,
   "metadata": {},
   "outputs": [
    {
     "data": {
      "text/plain": [
       "array([['Colon cancer', 'Collinsella aerofaciens', 'Increase'],\n",
       "       ['Periodontal', 'Fusobacterium', 'Increase'],\n",
       "       ['Periodontal', 'Porphyromonas gingivalis', 'Increase'],\n",
       "       ...,\n",
       "       ['Liver cirrhosis', 'Veillonella atypica', 'Increase'],\n",
       "       ['Liver cirrhosis', 'Veillonella dispar', 'Increase'],\n",
       "       ['Liver cirrhosis', 'Veillonella parvula', 'Increase']],\n",
       "      dtype=object)"
      ]
     },
     "execution_count": 26,
     "metadata": {},
     "output_type": "execute_result"
    }
   ],
   "source": [
    "Ass = pd.read_csv('./HMDAD.txt', sep=\"\\t\").to_numpy()[:, [0,1,3]]\n",
    "Ass"
   ]
  },
  {
   "cell_type": "code",
   "execution_count": 22,
   "metadata": {},
   "outputs": [],
   "source": [
    "ttt = Ass.iloc[:, 1].drop_duplicates()"
   ]
  },
  {
   "cell_type": "code",
   "execution_count": 27,
   "metadata": {},
   "outputs": [],
   "source": [
    "new2old = np.load('./new2old_dis_dic.npy', allow_pickle=True).item()\n",
    "dis_dic = np.load('./dis_dic.npy', allow_pickle=True).item()\n",
    "mic_dic = np.load('./mic_dic.npy', allow_pickle=True).item()"
   ]
  },
  {
   "cell_type": "code",
   "execution_count": 28,
   "metadata": {},
   "outputs": [],
   "source": [
    "outcome = np.zeros((len(mic_dic), len(dis_dic)))\n",
    "for i in range(Ass.shape[0]):\n",
    "    if Ass[i, 2] == 'Increase':\n",
    "        outcome[mic_dic[Ass[i, 1]], dis_dic[Ass[i, 0]]] = 1\n",
    "    else:\n",
    "        outcome[mic_dic[Ass[i, 1]], dis_dic[Ass[i, 0]]] = -1"
   ]
  },
  {
   "cell_type": "code",
   "execution_count": 35,
   "metadata": {},
   "outputs": [],
   "source": [
    "out = pd.DataFrame(outcome, index=mic_dic.keys(), columns=dis_dic.keys())\n",
    "out.to_csv('./sign_final_ass.csv')"
   ]
  },
  {
   "cell_type": "code",
   "execution_count": 37,
   "metadata": {},
   "outputs": [],
   "source": [
    "A = pd.read_csv('../peryton/sign_final_ass.csv', index_col=0).to_numpy()"
   ]
  },
  {
   "cell_type": "markdown",
   "metadata": {},
   "source": [
    "### check"
   ]
  },
  {
   "cell_type": "code",
   "execution_count": 25,
   "metadata": {},
   "outputs": [],
   "source": [
    "\n",
    "dis = list(mic_dic.keys())\n",
    "for item in dis:\n",
    "    if item not in ttt.values:\n",
    "        print(\"  &&&&  \")\n"
   ]
  },
  {
   "cell_type": "code",
   "execution_count": 29,
   "metadata": {},
   "outputs": [],
   "source": [
    "temp = np.load('./mic-dis Association.npy')"
   ]
  },
  {
   "cell_type": "code",
   "execution_count": 30,
   "metadata": {},
   "outputs": [],
   "source": [
    "correct = (temp == np.abs(outcome))"
   ]
  }
 ],
 "metadata": {
  "kernelspec": {
   "display_name": "torch_zhu",
   "language": "python",
   "name": "python3"
  },
  "language_info": {
   "codemirror_mode": {
    "name": "ipython",
    "version": 3
   },
   "file_extension": ".py",
   "mimetype": "text/x-python",
   "name": "python",
   "nbconvert_exporter": "python",
   "pygments_lexer": "ipython3",
   "version": "3.8.17"
  }
 },
 "nbformat": 4,
 "nbformat_minor": 2
}
