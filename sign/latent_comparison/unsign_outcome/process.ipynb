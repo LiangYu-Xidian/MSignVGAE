{
 "cells": [
  {
   "cell_type": "code",
   "execution_count": 1,
   "metadata": {},
   "outputs": [],
   "source": [
    "import numpy as np\n",
    "from sklearn.metrics import f1_score, accuracy_score, precision_score, recall_score, average_precision_score"
   ]
  },
  {
   "cell_type": "code",
   "execution_count": 34,
   "metadata": {},
   "outputs": [],
   "source": [
    "data = np.load('./slgnn_embedding_peryton_folds.npy', allow_pickle=True).item()\n",
    "f1, p, r, acc, aupr = [], [], [], [], []"
   ]
  },
  {
   "cell_type": "code",
   "execution_count": 35,
   "metadata": {},
   "outputs": [
    {
     "name": "stdout",
     "output_type": "stream",
     "text": [
      "f1:0.907072311727647\n",
      "p:0.8957889632025531\n",
      "r:0.9188095254246971\n",
      "acc:0.9059186662645929\n",
      "aupr:0.8636793816270405\n"
     ]
    }
   ],
   "source": [
    "for key, value in data.items():\n",
    "    label = np.array(value[0])\n",
    "    ttt = np.array(value[1])\n",
    "    # t1 = ttt.argmax()\n",
    "    score = np.zeros_like(ttt, dtype=np.int32)\n",
    "    for i in range(ttt.shape[0]):\n",
    "        if ttt[i]>0.5:\n",
    "            score[i] = 1    \n",
    "\n",
    "    f1.append(f1_score(label, score))\n",
    "    acc.append(accuracy_score(label, score))\n",
    "    p.append(precision_score(label, score))\n",
    "    r.append(recall_score(label, score))\n",
    "    aupr.append(average_precision_score(label, score))\n",
    "\n",
    "mean_f1, std_f1 = np.array(f1).mean(), np.array(f1).std()\n",
    "mean_r, std_r = np.array(r).mean(), np.array(r).std()\n",
    "mean_p, std_p = np.array(p).mean(), np.array(p).std()\n",
    "mean_acc, std_acc = np.array(acc).mean(), np.array(acc).std()\n",
    "mean_aupr, std_aupr = np.array(aupr).mean(), np.array(aupr).std()\n",
    "\n",
    "\n",
    "print('f1:{}'.format(mean_f1))\n",
    "print('p:{}'.format(mean_p))\n",
    "print('r:{}'.format(mean_r))\n",
    "print('acc:{}'.format(mean_acc))\n",
    "print('aupr:{}'.format(mean_aupr))"
   ]
  }
 ],
 "metadata": {
  "kernelspec": {
   "display_name": "torch_zhu",
   "language": "python",
   "name": "python3"
  },
  "language_info": {
   "codemirror_mode": {
    "name": "ipython",
    "version": 3
   },
   "file_extension": ".py",
   "mimetype": "text/x-python",
   "name": "python",
   "nbconvert_exporter": "python",
   "pygments_lexer": "ipython3",
   "version": "3.8.17"
  }
 },
 "nbformat": 4,
 "nbformat_minor": 2
}
