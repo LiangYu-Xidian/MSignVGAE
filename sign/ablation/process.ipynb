{
 "cells": [
  {
   "cell_type": "code",
   "execution_count": 1,
   "metadata": {},
   "outputs": [],
   "source": [
    "import numpy as np\n",
    "from sklearn.metrics import f1_score, accuracy_score, precision_score, recall_score, average_precision_score"
   ]
  },
  {
   "cell_type": "code",
   "execution_count": 27,
   "metadata": {},
   "outputs": [],
   "source": [
    "data = np.load('./out/peryton_sign2_no_signGCN_noaux_folds.npy', allow_pickle=True).item()"
   ]
  },
  {
   "cell_type": "code",
   "execution_count": 28,
   "metadata": {},
   "outputs": [],
   "source": [
    "f1, p, r, acc, aupr = [], [], [], [], []"
   ]
  },
  {
   "cell_type": "code",
   "execution_count": 29,
   "metadata": {},
   "outputs": [],
   "source": [
    "for key, value in data.items():\n",
    "    label = value[0].astype(np.int32)\n",
    "    ttt = value[1]\n",
    "    t1 = ttt.argmax(axis=1)\n",
    "    score = np.zeros_like(ttt, dtype=np.int32)\n",
    "    for i in range(ttt.shape[0]):\n",
    "        score[i, t1[i]] = 1\n",
    "    f1.append(f1_score(label, score, average='macro'))\n",
    "    acc.append(accuracy_score(label, score))\n",
    "    p.append(precision_score(label, score, average='macro'))\n",
    "    r.append(recall_score(label, score, average='macro'))\n",
    "    aupr.append(average_precision_score(label, score, average=None))"
   ]
  },
  {
   "cell_type": "code",
   "execution_count": 30,
   "metadata": {},
   "outputs": [
    {
     "name": "stdout",
     "output_type": "stream",
     "text": [
      "f1:0.7507232595378284\n",
      "p:0.7507581660289678\n",
      "r:0.7514842672398007\n",
      "acc:0.7974619107109522\n",
      "aupr:0.6494686745579737\n"
     ]
    }
   ],
   "source": [
    "mean_f1, std_f1 = np.array(f1).mean(), np.array(f1).std()\n",
    "mean_r, std_r = np.array(r).mean(), np.array(r).std()\n",
    "mean_p, std_p = np.array(p).mean(), np.array(p).std()\n",
    "mean_acc, std_acc = np.array(acc).mean(), np.array(acc).std()\n",
    "mean_aupr, std_aupr = np.array(aupr).mean(), np.array(aupr).std()\n",
    "\n",
    "\n",
    "print('f1:{}'.format(mean_f1))\n",
    "print('p:{}'.format(mean_p))\n",
    "print('r:{}'.format(mean_r))\n",
    "print('acc:{}'.format(mean_acc))\n",
    "print('aupr:{}'.format(mean_aupr))"
   ]
  },
  {
   "cell_type": "code",
   "execution_count": 83,
   "metadata": {},
   "outputs": [
    {
     "data": {
      "text/plain": [
       "0.06950089958019591"
      ]
     },
     "execution_count": 83,
     "metadata": {},
     "output_type": "execute_result"
    }
   ],
   "source": [
    "4172 / 1396 / 43"
   ]
  }
 ],
 "metadata": {
  "kernelspec": {
   "display_name": "torch_zhu",
   "language": "python",
   "name": "python3"
  },
  "language_info": {
   "codemirror_mode": {
    "name": "ipython",
    "version": 3
   },
   "file_extension": ".py",
   "mimetype": "text/x-python",
   "name": "python",
   "nbconvert_exporter": "python",
   "pygments_lexer": "ipython3",
   "version": "3.8.11"
  }
 },
 "nbformat": 4,
 "nbformat_minor": 2
}
